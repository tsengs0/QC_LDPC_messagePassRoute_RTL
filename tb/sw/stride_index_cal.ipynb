{
 "cells": [
  {
   "cell_type": "code",
   "execution_count": 147,
   "metadata": {},
   "outputs": [],
   "source": [
    "import math\n",
    "import numpy as np\n",
    "import pandas as pd\n",
    "from typing import List\n",
    "from collections import defaultdict"
   ]
  },
  {
   "cell_type": "markdown",
   "metadata": {},
   "source": [
    "Let $S(i, j)$ and $S(i+1, j)$ denote the shfit factors of a given set of submatrices.\n",
    "The Z messages associated with a submatrix are mapped to a bunch of row chunks in a stride-pattern fashion. For each message, $t \\in \\{0, 1, \\cdots, Z-1\\}$, its corresponding row chunk index is calculated by\n",
    "$$page\\_addr(t, i, j)=I^{new}_{col_{t}} \\pmod {N_{rc}}$$\n",
    "\n",
    "where\n",
    "$$I^{new}_{col_{t}} = (I^{new}_{col_{0}}+t) \\pmod{Z}$$\n",
    "$$I^{new}_{col_{0}} = Z - S(i, j)$$\n",
    "\n",
    "Furthermore, each aforementioned message $t$ is located in a certain orow chunk by a word address, that is\n",
    "$$word\\_addr(t, i, j) =\\lfloor I^{new}_{col_t} / N_{rc} \\rfloor$$"
   ]
  },
  {
   "cell_type": "code",
   "execution_count": 148,
   "metadata": {},
   "outputs": [],
   "source": [
    "class msgPass_buffer_ctrl:\n",
    "\tI_new_col_0 = None\n",
    "\tI_new_col_t = None\n",
    "\t\n",
    "\tdef __init__(self, msgPass_sched: str, Z: int, N_rc: int, U: int, W_s: int, bm_row_num: int, bm_col_num: int):\n",
    "\t\tself.msgPass_sched = msgPass_sched\n",
    "\t\tself.Z = Z\n",
    "\t\tself.N_rc = N_rc\n",
    "\t\tself.U = U\n",
    "\t\tself.W_s = W_s\n",
    "\t\tself.bm_row_num = bm_row_num\n",
    "\t\tself.bm_col_num = bm_col_num\n",
    "\t\tself.page_waddr_vec = np.zeros(shape=(self.bm_col_num, self.bm_row_num, self.U, self.W_s), dtype=int)\n",
    "\n",
    "\tdef new_col_normalisation(self, t: int, shift_factor: int):\n",
    "\t\tself.I_new_col_0 = self.Z-shift_factor\n",
    "\t\tself.I_new_col_t = (self.I_new_col_0+t) % self.Z\n",
    "\t\t\n",
    "\tdef page_addr_gen(self, t: int, shift_factor: int):\n",
    "\t\tself.new_col_normalisation(t=t, shift_factor=shift_factor)\n",
    "\t\tif(self.msgPass_sched==\"stride_sched\"):\n",
    "\t\t\tpage_addr=self.I_new_col_t % self.N_rc\n",
    "\t\treturn page_addr\n",
    "\t\n",
    "\tdef word_addr_gen(self, t: int, shift_factor: int):\n",
    "\t\tself.new_col_normalisation(t=t, shift_factor=shift_factor)\n",
    "\t\tif(self.msgPass_sched==\"stride_sched\"):\n",
    "\t\t\tword_addr=math.floor(self.I_new_col_t / self.N_rc)\n",
    "\t\treturn word_addr\n",
    "\t\n",
    "\t"
   ]
  },
  {
   "cell_type": "markdown",
   "metadata": {},
   "source": [
    "Configuration of the decoder architecture\n",
    "- Parallelism in rows and columns of the target parity-check matrix (expanded from a given base matrix)\n",
    "- To instantiate a container to emulate the message-pass buffer"
   ]
  },
  {
   "cell_type": "code",
   "execution_count": 149,
   "metadata": {},
   "outputs": [],
   "source": [
    "baseMatrix_row_num = 3\n",
    "baseMatrix_col_num = 10\n",
    "Z=16\n",
    "W_s=4\n",
    "P_r=2\n",
    "P_c=1\n",
    "S_i_j = 0\n",
    "S_i_plus1_j = 7\n",
    "U = math.ceil(Z / (P_r*W_s)) # number of stride units\n",
    "N_rc = math.ceil(Z / P_r) # number of row chunks in a submatrix, each of which contains N_{fg} stride fingers\n",
    "msgPass_buffer_norm = np.zeros(shape=(N_rc*2+1, P_r), dtype=np.int32) # Depth: Region 0) N_rc num. of compV2C row chunks\n",
    "\t\t\t\t\t\t\t\t\t\t\t\t\t\t\t\t      #        Region 1) a blank row chunk as separator\n",
    "\t\t\t\t\t\t\t\t\t\t\t\t\t\t\t\t      #        Region 2) N_rc num. of permV2C row chunks\n",
    "\n",
    "# A virtual message-pass buffer controller to generate the page and word addresses for writing back the cyclic shifted messages\n",
    "msgPass_buffer_ctrl_inst = msgPass_buffer_ctrl(\n",
    "    msgPass_sched=\"stride_sched\",\n",
    "    Z=Z,\n",
    "    N_rc=N_rc,\n",
    "    U=U,\n",
    "    W_s=W_s,\n",
    "    bm_row_num=baseMatrix_row_num,\n",
    "    bm_col_num=baseMatrix_col_num\n",
    ")"
   ]
  },
  {
   "cell_type": "code",
   "execution_count": 150,
   "metadata": {},
   "outputs": [],
   "source": [
    "# 1) Page address (index of stride set)\n",
    "# 2) Word address (finger index in a stride set)\n",
    "page_addr = [0]*Z\n",
    "word_addr = [0]*Z\n",
    "\n",
    "def msgPass_buffer_permMsg_write(\n",
    "\t\tmsgPass_sched: str,\n",
    "\t\tcompMsg_vec: List[int], # Set of computed messages before getting (cyclic) shifted\n",
    "\t\tZ: int,\n",
    "\t\tshift_factor: int,\n",
    "\t\tN_rc: int,\n",
    "\t\tmsgPass_buffer_inst: List[ List[int] ],\n",
    "\t\tpermMsg_pageAddr_base: int # Base address of permuted messages region in msgPass_buffer\n",
    ") -> List[ List[int] ]:\n",
    "\tfor t in compMsg_vec:\n",
    "\t\tpage_addr[t] = msgPass_buffer_ctrl_inst.page_addr_gen(t=t, shift_factor=shift_factor)\n",
    "\t\tword_addr[t] = msgPass_buffer_ctrl_inst.word_addr_gen(t=t, shift_factor=shift_factor)\n",
    "\t\tmsgPass_buffer_inst[ page_addr[t]+permMsg_pageAddr_base ][ word_addr[t] ] = t\n",
    "\treturn msgPass_buffer_inst\n"
   ]
  },
  {
   "cell_type": "markdown",
   "metadata": {},
   "source": [
    "Let test an example that $S(i,j)=7$ and $S(i+1,j)=7$."
   ]
  },
  {
   "cell_type": "code",
   "execution_count": 151,
   "metadata": {},
   "outputs": [
    {
     "name": "stdout",
     "output_type": "stream",
     "text": [
      "[[ 0  8]\n",
      " [ 1  9]\n",
      " [ 2 10]\n",
      " [ 3 11]\n",
      " [ 4 12]\n",
      " [ 5 13]\n",
      " [ 6 14]\n",
      " [ 7 15]\n",
      " [ 0  0]\n",
      " [ 7 15]\n",
      " [ 8  0]\n",
      " [ 9  1]\n",
      " [10  2]\n",
      " [11  3]\n",
      " [12  4]\n",
      " [13  5]\n",
      " [14  6]]\n"
     ]
    }
   ],
   "source": [
    "S_i_j = 0\n",
    "S_i_plus1_j = 7\n",
    "initial_compMsg_vec = [t for t in range(Z)]\n",
    "\n",
    "permV2C_base_addr_vec = [0]*2\n",
    "permV2C_base_addr_vec[0] = 0 # tentative value for ease of simulation\n",
    "permV2C_base_addr_vec[1] = N_rc+1 # tentative value for ease of simulation\n",
    "\n",
    "# For S(i, j)\n",
    "msgPass_buffer_norm = msgPass_buffer_permMsg_write(\n",
    "\t\tmsgPass_sched=\"stride_sched\",\n",
    "\t\tcompMsg_vec=initial_compMsg_vec,\n",
    "\t\tZ=Z,\n",
    "\t\tshift_factor=S_i_j,\n",
    "\t\tN_rc=N_rc,\n",
    "\t\tmsgPass_buffer_inst=msgPass_buffer_norm,\n",
    "\t\tpermMsg_pageAddr_base=permV2C_base_addr_vec[0]\n",
    ")\n",
    "\n",
    "# For S(i+1, j)\n",
    "msgPass_buffer_norm = msgPass_buffer_permMsg_write(\n",
    "\t\tmsgPass_sched=\"stride_sched\",\n",
    "\t\tcompMsg_vec=initial_compMsg_vec,\n",
    "\t\tZ=Z,\n",
    "\t\tshift_factor=S_i_plus1_j,\n",
    "\t\tN_rc=N_rc,\n",
    "\t\tmsgPass_buffer_inst=msgPass_buffer_norm,\n",
    "\t\tpermMsg_pageAddr_base=permV2C_base_addr_vec[1]\n",
    ")\n",
    "\n",
    "print(msgPass_buffer_norm)"
   ]
  },
  {
   "cell_type": "markdown",
   "metadata": {},
   "source": [
    "The next section will address the cyclic shfit factor for each row chunk."
   ]
  },
  {
   "cell_type": "markdown",
   "metadata": {},
   "source": [
    "# Stride Unit Assignment\n",
    "\n",
    "The row chunks, stride units and input sources of a page alignment unit are formulated as follows. A submatrix $b$ consists of a set of stride units, $\\mathbb{S}=\\{\\mathbb{S}_{0}, \\mathbb{S}_{1}, \\cdots. \\mathbb{S}_{U-1}\\}$ where $U = Z / (P_{r} \\cdot W^{s})$ accounts for the number of stride units. For all $u \\in \\{0, \\cdots, U-1\\}$, a set of consecutive row chunks is included in a stride unit, i.e. $\\mathbb{S}_{u} = \\{R^{u}_{0}, R^{u}_{2}, \\cdots, R^{u}_{W^{s}-1}\\}$ where $R^{u}_{0}$ denotes the first row chunk in the $u$th stride unit, etc. Moreover, a row chunk $R^{u}_{i}$ aggregates a bunch of extrinsic messages\\footnote{Every extrinsic message is from a nonzero element in submatrix $b$, which represents one associated variable node.}, i.e.\n",
    "\n",
    "$$\n",
    "\\forall i \\in \\{0, \\cdots, W^{s}-1\\}, \\forall u \\in \\{0, \\cdots, U-1\\}, \\\\\n",
    "R^{u}_{i} = \\{y_{o} | 0 \\leq j \\leq P_{r}-1, j \\in \\mathbb{Z}^{+}, o=N_{rc}*j+i+u*W^{s}\\}.\n",
    "$$"
   ]
  },
  {
   "cell_type": "markdown",
   "metadata": {},
   "source": [
    "# Generation of Row-Chunk Cyclic Shift Factors\n",
    "\n",
    "This section is to determine the cyclic shift factor for the permutation of each row chunk.\n",
    "Let pick up one element from each row chunk as representatives, presenting by a set $E^{pg}$,\n",
    "$$\n",
    "E^{pg} = \\{t \\in [0, Z) | t \\pmod {P_{r}}=0\\}.\n",
    "$$\n",
    "\n",
    "Next step is to get the page address and word address from each element of $E^{pg}$,\n",
    "$$\n",
    "\\forall e \\in E^{pg}, \\\\\n",
    "\\hat{P}^{cur}_{e} = page\\_addr(e, i, j), \\\\\n",
    "\\hat{P}^{next}_{e} = page\\_addr(e, i+1, j), \\\\\n",
    "\\hat{W}^{cur}_{e} = word\\_addr(e, i, j), \\\\\n",
    "\\hat{W}^{next}_{e} = word\\_addr(e, i+1, j). \\\\\n",
    "$$\n",
    "\n",
    "Finally, the cyclic shift factor for passing messages in each row chunk, from $i$-th decoding layer to $(i+1)$-th deocoding layer, can be calculated by\n",
    "$$\n",
    "\\hat{S}(i, j, \\hat{P}^{cur}_{e}) = \n",
    "\\begin{cases}\n",
    "    \\hat{W}^{next}_{e} - \\hat{W}^{cur}_{e}, & \\text{if } \\hat{W}^{next}_{e} \\ge \\hat{W}^{cur}_{e} \\\\\n",
    "    N_{rc} + \\hat{W}^{next}_{e} - \\hat{W}^{cur}_{e}, & \\text{otherwise}\n",
    "\\end{cases}\n",
    "$$"
   ]
  },
  {
   "cell_type": "markdown",
   "metadata": {},
   "source": [
    "Example of $submatrix(i=0, j=0)$ and $submatrix(i=1, j=0)$."
   ]
  },
  {
   "cell_type": "code",
   "execution_count": 152,
   "metadata": {},
   "outputs": [
    {
     "name": "stdout",
     "output_type": "stream",
     "text": [
      "hat_P_cur_e=0\t->\t0-th row chunk gets shifted by the cyclic shift factor 1, p1: 1\n",
      "hat_P_cur_e=2\t->\t2-th row chunk gets shifted by the cyclic shift factor 1, p1: 3\n",
      "hat_P_cur_e=4\t->\t4-th row chunk gets shifted by the cyclic shift factor 1, p1: 5\n",
      "hat_P_cur_e=6\t->\t6-th row chunk gets shifted by the cyclic shift factor 1, p1: 7\n",
      "hat_P_cur_e=0\t->\t0-th row chunk gets shifted by the cyclic shift factor 1, p1: 1\n",
      "hat_P_cur_e=2\t->\t2-th row chunk gets shifted by the cyclic shift factor 1, p1: 3\n",
      "hat_P_cur_e=4\t->\t4-th row chunk gets shifted by the cyclic shift factor 1, p1: 5\n",
      "hat_P_cur_e=6\t->\t6-th row chunk gets shifted by the cyclic shift factor 1, p1: 7\n",
      "cyclic_shiftFactor_vec[0][0]: [1 0 1 0 1 0 1 0]\n"
     ]
    }
   ],
   "source": [
    "i=0\n",
    "j=0\n",
    "page_vec = [t for t in range(Z) if (t % P_r)==0]\n",
    "cyclic_shiftFactor_vec= np.zeros(shape=(baseMatrix_row_num, baseMatrix_col_num, N_rc), dtype=np.int32)\n",
    "for t in page_vec:\n",
    "    # To generate the cyclic shift factors for row chunks\n",
    "    p0 = msgPass_buffer_ctrl_inst.page_addr_gen(t=t, shift_factor=S_i_j)\n",
    "    w0 = msgPass_buffer_ctrl_inst.word_addr_gen(t=t, shift_factor=S_i_j)\n",
    "    p1 = msgPass_buffer_ctrl_inst.page_addr_gen(t=t, shift_factor=S_i_plus1_j)\n",
    "    w1 = msgPass_buffer_ctrl_inst.word_addr_gen(t=t, shift_factor=S_i_plus1_j)\n",
    "    if w1 < w0:\n",
    "        hat_S_i_j_r = P_r+w1-w0\n",
    "    else: # w1 >= w0\n",
    "        hat_S_i_j_r = w1-w0\n",
    "    print(f\"hat_P_cur_e={p0}\\t->\\t{p0}-th row chunk gets shifted by the cyclic shift factor {hat_S_i_j_r}, p1: {p1}\")\n",
    "    cyclic_shiftFactor_vec[i][j][p0] = hat_S_i_j_r\n",
    "\n",
    "print(f\"cyclic_shiftFactor_vec[{i}][{j}]: {cyclic_shiftFactor_vec[i][j]}\")"
   ]
  },
  {
   "cell_type": "markdown",
   "metadata": {},
   "source": [
    "# Algorithm - Message Passing Procedures for the Computed V2C Messages"
   ]
  },
  {
   "cell_type": "markdown",
   "metadata": {},
   "source": [
    "- StrideUnit-to-message converter: to obtain the indices of stride unit and relative row chunk that $t$-th message is mapped to \n",
    "$$\n",
    "\\forall i \\in \\{0, \\cdots, W^{s}-1\\}, \\forall u \\in \\{0, \\cdots, U-1\\}, \\\\\n",
    "R^{u}_{i} = \\{y_{o} | 0 \\leq j \\leq P_{r}-1, j \\in \\mathbb{Z}^{+}, o=N_{rc}*j+i+u*W^{s}\\}.\n",
    "$$\n",
    "\n",
    "- Message-to-StrideUnit converter\n",
    "$$\n",
    "\\forall t \\in [0, Z), \\\\\n",
    "\n",
    "u = \\lfloor (t \\mod{(W^{s} \\cdot U)}) / W^{s} \\rfloor \\\\\n",
    "i = (t \\mod{(W^{s} \\cdot U)}) \\mod W^{s}\n",
    "$$\n",
    "\n",
    "---\n",
    "\n",
    "Let assign sample values to all stride unit."
   ]
  },
  {
   "cell_type": "code",
   "execution_count": 153,
   "metadata": {},
   "outputs": [],
   "source": [
    "R = [ [[0]*P_r for i in range(W_s)] for u in range(U) ]\n",
    "for u in range(U):\n",
    "\tfor i in range(W_s):\n",
    "\t\tfor j in range(P_r):\n",
    "\t\t\tR[u][i][j] = N_rc*j+i+u*W_s\n",
    "\t\t\t#print(f\"R[{u}][{i}][{j}] = {R[u][i][j]}\")\n",
    "\n",
    "for t in range(Z):\n",
    "\tu = math.floor((t % (W_s*U)) / W_s)\n",
    "\ti = (t % (W_s*U)) % W_s\n",
    "\t#print(f\"t={t} u={u} i={i}\")\n",
    "\tif t not in R[u][i]:\n",
    "\t\tprint(f\"Error: t={t} u={u} i={i} not in R[{u}][{i}]\")"
   ]
  },
  {
   "cell_type": "markdown",
   "metadata": {},
   "source": [
    "---\n",
    "\n",
    "To precalculate the page addresses for writing back the cyclic shifted message within $submatrix(i,j)$"
   ]
  },
  {
   "cell_type": "code",
   "execution_count": 158,
   "metadata": {},
   "outputs": [
    {
     "name": "stdout",
     "output_type": "stream",
     "text": [
      "msgPass_buffer_ctrl_inst.page_waddr_vec[bm_row][bm_col]: \n",
      "[[1 0 1 0]\n",
      " [1 0 1 0]]\n"
     ]
    }
   ],
   "source": [
    "i=0\n",
    "j=0\n",
    "page_vec = [t for t in range(Z) if (t % P_r)==0]\n",
    "abs_rowChunk_id_vec = list()\n",
    "rel_rowChunk_id_vec = list()\n",
    "stride_unit_id_vec = list()\n",
    "hat_abs_rowChunk_id_vec = list()\n",
    "hat_rel_rowChunk_id_vec = list()\n",
    "hat_stride_unit_id_vec = list()\n",
    "for t in page_vec:\n",
    "    abs_rowChunk_id = msgPass_buffer_ctrl_inst.page_addr_gen(t=t, shift_factor=S_i_j)\n",
    "    rel_rowChunk_id = abs_rowChunk_id % W_s\n",
    "    stride_unit_id = math.floor(abs_rowChunk_id / W_s)\n",
    "    abs_rowChunk_id_vec.append(abs_rowChunk_id)\n",
    "    rel_rowChunk_id_vec.append(rel_rowChunk_id)\n",
    "    stride_unit_id_vec.append(stride_unit_id)\n",
    "    #print(f\"t: {t}|\\t->\\t| Row chunk for i-th layer: {abs_rowChunk_id} (absolute), i.e. {rel_rowChunk_id} (relative) at stride unit {stride_unit_id}\")\n",
    "  \n",
    "    hat_abs_rowChunk_id = msgPass_buffer_ctrl_inst.page_addr_gen(t=t, shift_factor=S_i_j+S_i_plus1_j)\n",
    "    hat_rel_rowChunk_id = hat_abs_rowChunk_id % W_s\n",
    "    hat_stride_unit_id = math.floor(hat_abs_rowChunk_id / W_s)\n",
    "    hat_abs_rowChunk_id_vec.append(hat_abs_rowChunk_id)\n",
    "    hat_rel_rowChunk_id_vec.append(hat_rel_rowChunk_id)\n",
    "    hat_stride_unit_id_vec.append(hat_stride_unit_id)\n",
    "    #print(f\"t: {t}|\\t->\\t| Row chunk for (i+1)-th layer: {hat_abs_rowChunk_id} (absolute), i.e. {hat_rel_rowChunk_id} (relative) at stride unit {hat_stride_unit_id}\")\n",
    "\n",
    "# To generate the page addresses for writing back the cyclic shifted messages\n",
    "bm_row=i\n",
    "bm_col=j\n",
    "\n",
    "for u in stride_unit_id_vec:\n",
    "    hat_u = hat_stride_unit_id_vec[u]\n",
    "    for rc in rel_rowChunk_id_vec:\n",
    "        hat_rc = hat_rel_rowChunk_id_vec[rc]\n",
    "        msgPass_buffer_ctrl_inst.page_waddr_vec[bm_row][bm_col][u][rc] = hat_rc\n",
    "\n",
    "print(f\"msgPass_buffer_ctrl_inst.page_waddr_vec[bm_row][bm_col]: \\n{msgPass_buffer_ctrl_inst.page_waddr_vec[bm_row][bm_col]}\")"
   ]
  },
  {
   "cell_type": "code",
   "execution_count": null,
   "metadata": {},
   "outputs": [
    {
     "name": "stdout",
     "output_type": "stream",
     "text": [
      "msgPass_buffer before cyclic shift = \n",
      "[[ 0  5 10]\n",
      " [ 1  6 11]\n",
      " [ 2  7 12]\n",
      " [ 3  8 13]\n",
      " [ 4  9 14]\n",
      " [ 0  0  0]\n",
      " [ 0  0  0]\n",
      " [ 0  0  0]\n",
      " [ 0  0  0]\n",
      " [ 0  0  0]\n",
      " [ 0  0  0]]\n",
      "------------------------------------------------------------------------\n",
      "msgPass_buffer after cyclic shift = \n",
      "[[ 0  5 10]\n",
      " [ 1  6 11]\n",
      " [ 2  7 12]\n",
      " [ 3  8 13]\n",
      " [ 4  9 14]\n",
      " [ 0  0  0]\n",
      " [ 9 14  4]\n",
      " [ 0  0  0]\n",
      " [ 0  0  0]\n",
      " [ 0  0  0]\n",
      " [ 0  0  0]]\n"
     ]
    }
   ],
   "source": [
    "msgPass_buffer = np.zeros(shape=(N_rc*2+1, P_r), dtype=np.int32) # Depth: Region 0) N_rc num. of compV2C row chunks\n",
    "\t\t\t\t\t\t\t\t\t\t\t\t\t\t\t\t #        Region 1) a blank row chunk as separator\n",
    "\t\t\t\t\t\t\t\t\t\t\t\t\t\t\t\t #        Region 2) N_rc num. of permV2C row chunks\n",
    "for t in range(Z):\n",
    "\tpage_addr = msgPass_buffer_ctrl_inst.page_addr_gen(t=t, shift_factor=S_i_j)\n",
    "\tword_addr = msgPass_buffer_ctrl_inst.word_addr_gen(t=t, shift_factor=S_i_j)\n",
    "\tmsgPass_buffer[page_addr][word_addr] = t\n",
    "\n",
    "compV2C_base_addr = 0 # tentative value for ease of simulation\n",
    "permV2C_base_addr = N_rc+1 # tentative value for ease of simulation\n",
    "page_raddr = 0 + compV2C_base_addr\n",
    "\n",
    "print(f\"msgPass_buffer before cyclic shift = \\n{msgPass_buffer}\")\n",
    "print(\"------------------------------------------------------------------------\")\n",
    "for u in range(U):\n",
    "\tfor i in range(W_s):\n",
    "\t\tabs_rowChunk_id = u*W_s + i # (stride unit ID, relative row chunk ID) |-> absolute row chunk ID\n",
    "\t\tS_bs = cyclic_shiftFactor_vec[0][0][abs_rowChunk_id]\n",
    "\t\t#print(f\"Stirde unit ID: {u}, Row chunk ID: {i} |-> Absolute row chunk ID: {abs_rowChunk_id}, S_bs: {S_bs}\")\n",
    "\t\tpage_waddr = permV2C_base_addr\n",
    "\t\tfor j in range(P_r):\n",
    "\t\t\ty_fetch_compV2C = msgPass_buffer[page_raddr][j]\n",
    "\t\t\that_j = int((j + S_bs) % P_r)\n",
    "\t\t\tmsgPass_buffer[page_waddr][hat_j] = y_fetch_compV2C\n",
    "\t\tpage_raddr += 1\n",
    "\n",
    "print(f\"msgPass_buffer after cyclic shift = \\n{msgPass_buffer}\")"
   ]
  }
 ],
 "metadata": {
  "kernelspec": {
   "display_name": "Python 3",
   "language": "python",
   "name": "python3"
  },
  "language_info": {
   "codemirror_mode": {
    "name": "ipython",
    "version": 3
   },
   "file_extension": ".py",
   "mimetype": "text/x-python",
   "name": "python",
   "nbconvert_exporter": "python",
   "pygments_lexer": "ipython3",
   "version": "3.11.6"
  }
 },
 "nbformat": 4,
 "nbformat_minor": 2
}
