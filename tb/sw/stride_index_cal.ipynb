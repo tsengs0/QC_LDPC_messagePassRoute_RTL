{
 "cells": [
  {
   "cell_type": "code",
   "execution_count": 22,
   "metadata": {},
   "outputs": [],
   "source": [
    "import math\n",
    "import numpy as np\n",
    "import pandas as pd\n",
    "from typing import List"
   ]
  },
  {
   "cell_type": "markdown",
   "metadata": {},
   "source": [
    "Let $S(i, j)$ and $S(i+1, j)$ denote the shfit factors of a given set of submatrices.\n",
    "The Z messages associated with a submatrix are mapped to a bunch of row chunks in a stride-pattern fashion. For each message, $t \\in \\{0, 1, \\cdots, Z-1\\}$, its corresponding row chunk index is calculated by\n",
    "$$page\\_addr(t, i j)=I^{new}_{col_{t}} \\pmod {N_{rc}}$$\n",
    "\n",
    "where\n",
    "$$I^{new}_{col_{t}} = (I^{new}_{col_{0}}+t) \\pmod{Z}$$\n",
    "$$I^{new}_{col_{0}} = Z - S(i, j)$$\n",
    "\n",
    "Furthermore, each aforementioned message $t$ is located in a certain orow chunk by a word address, that is\n",
    "$$word\\_addr(t, i, j) =\\lfloor I^{new}_{col_t} / N_{rc} \\rfloor$$"
   ]
  },
  {
   "cell_type": "code",
   "execution_count": 2,
   "metadata": {},
   "outputs": [],
   "source": [
    "def msgPass_buffer_addr_gen(msgPass_sched: str, t: int, Z: int, shift_factor: int, N_rc: int):\n",
    "\tif(msgPass_sched==\"stride_sched\"):\n",
    "\t\tI_new_col_0 = Z-shift_factor\n",
    "\t\tI_new_col_t = (I_new_col_0+t) % Z\n",
    "\t\tpage_addr=I_new_col_t % N_rc\n",
    "\t\tword_addr=math.floor(I_new_col_t / N_rc)\n",
    "\treturn page_addr, word_addr\n"
   ]
  },
  {
   "cell_type": "markdown",
   "metadata": {},
   "source": [
    "Configuration of the decoder architecture\n",
    "- Parallelism in rows and columns of the target parity-check matrix (expanded from a given base matrix)\n",
    "- To instantiate a container to emulate the message-pass buffer"
   ]
  },
  {
   "cell_type": "code",
   "execution_count": 14,
   "metadata": {},
   "outputs": [],
   "source": [
    "Z=15\n",
    "W_s=1\n",
    "P_r=3\n",
    "P_c=1\n",
    "S_i_j = 0\n",
    "S_i_plus1_j = 7\n",
    "U = math.ceil(Z / (P_r*W_s)) # number of stride units\n",
    "N_rc = math.ceil(Z / P_r) # number of row chunks in a submatrix, each of which contains N_{fg} stride fingers\n",
    "msgPass_buffer_norm = np.zeros(shape=(N_rc*2+1, P_r), dtype=np.int32) # Depth: Region 0) N_rc num. of compV2C row chunks\n",
    "\t\t\t\t\t\t\t\t\t\t\t\t\t\t\t\t      #        Region 1) a blank row chunk as separator\n",
    "\t\t\t\t\t\t\t\t\t\t\t\t\t\t\t\t      #        Region 2) N_rc num. of permV2C row chunks"
   ]
  },
  {
   "cell_type": "code",
   "execution_count": 15,
   "metadata": {},
   "outputs": [],
   "source": [
    "# 1) Page address (index of stride set)\n",
    "# 2) Word address (finger index in a stride set)\n",
    "page_addr = [0]*Z\n",
    "word_addr = [0]*Z\n",
    "\n",
    "def msgPass_buffer_permMsg_write(\n",
    "\t\tmsgPass_sched: str,\n",
    "\t\tcompMsg_vec: List[int], # Set of computed messages before getting (cyclic) shifted\n",
    "\t\tZ: int,\n",
    "\t\tshift_factor: int,\n",
    "\t\tN_rc: int,\n",
    "\t\tmsgPass_buffer_inst: List[ List[int] ],\n",
    "\t\tpermMsg_pageAddr_base: int # Base address of permuted messages region in msgPass_buffer\n",
    ") -> List[ List[int] ]:\n",
    "\tfor t in compMsg_vec:\n",
    "\t\tpage_addr[t], word_addr[t] = msgPass_buffer_addr_gen(msgPass_sched=\"stride_sched\", t=t, Z=Z, shift_factor=shift_factor, N_rc=N_rc)\n",
    "\t\tmsgPass_buffer_inst[ page_addr[t]+permMsg_pageAddr_base ][ word_addr[t] ] = t\n",
    "\treturn msgPass_buffer_inst\n"
   ]
  },
  {
   "cell_type": "markdown",
   "metadata": {},
   "source": [
    "Let test an example that $S(i,j)=7$ and $S(i+1,j)=7$."
   ]
  },
  {
   "cell_type": "code",
   "execution_count": null,
   "metadata": {},
   "outputs": [
    {
     "name": "stdout",
     "output_type": "stream",
     "text": [
      "[[ 0  5 10]\n",
      " [ 1  6 11]\n",
      " [ 2  7 12]\n",
      " [ 3  8 13]\n",
      " [ 4  9 14]\n",
      " [ 0  0  0]\n",
      " [ 7 12  2]\n",
      " [ 8 13  3]\n",
      " [ 9 14  4]\n",
      " [10  0  5]\n",
      " [11  1  6]]\n",
      "[0, 1, 2, 3, 4, 5, 6, 7, 8, 9, 10, 11, 12, 13, 14]\n"
     ]
    }
   ],
   "source": [
    "S_i_j = 0\n",
    "S_i_plus1_j = 7\n",
    "initial_compMsg_vec = [t for t in range(Z)]\n",
    "\n",
    "permV2C_base_addr_vec = [0]*2\n",
    "permV2C_base_addr_vec[0] = 0 # tentative value for ease of simulation\n",
    "permV2C_base_addr_vec[1] = N_rc+1 # tentative value for ease of simulation\n",
    "\n",
    "# For S(i, j)\n",
    "msgPass_buffer_norm = msgPass_buffer_permMsg_write(\n",
    "\t\tmsgPass_sched=\"stride_sched\",\n",
    "\t\tcompMsg_vec=initial_compMsg_vec,\n",
    "\t\tZ=Z,\n",
    "\t\tshift_factor=S_i_j,\n",
    "\t\tN_rc=N_rc,\n",
    "\t\tmsgPass_buffer_inst=msgPass_buffer_norm,\n",
    "\t\tpermMsg_pageAddr_base=permV2C_base_addr_vec[0]\n",
    ")\n",
    "\n",
    "# For S(i+1, j)\n",
    "msgPass_buffer_norm = msgPass_buffer_permMsg_write(\n",
    "\t\tmsgPass_sched=\"stride_sched\",\n",
    "\t\tcompMsg_vec=initial_compMsg_vec,\n",
    "\t\tZ=Z,\n",
    "\t\tshift_factor=S_i_plus1_j,\n",
    "\t\tN_rc=N_rc,\n",
    "\t\tmsgPass_buffer_inst=msgPass_buffer_norm,\n",
    "\t\tpermMsg_pageAddr_base=permV2C_base_addr_vec[1]\n",
    ")\n",
    "\n",
    "print(msgPass_buffer_norm)"
   ]
  },
  {
   "cell_type": "markdown",
   "metadata": {},
   "source": [
    "# Generation of Row-Chunk Cyclic Shift Factors\n",
    "\n",
    "This section is to determine the cyclic shift factor for the permutation of each row chunk.\n",
    "Let normalise the $S(i, j)$ and $S(i+1, j)$ with respect to the row chunks of which partitioned from a zero-shifted submatrix ($=I^{0}_{Z}$), denoted by $\\hat{S}_{i, j, r}$ and $\\hat{S}_{i, j, r}$, respectively. The last argument $r$ accounts for $r$-th row chunk in the underlying submatrix.\n",
    "$$\n",
    "\\hat{S}_{i, j, r} =  word\\_addr(t, i, j) S(i, j) \\pmod{N_{rc}} \\\\\n",
    "\\hat{S}_{i+1, j, r} = S(i+1, j) \\pmod{N_{rc}}\n",
    "$$\n",
    "The "
   ]
  },
  {
   "cell_type": "code",
   "execution_count": null,
   "metadata": {},
   "outputs": [],
   "source": []
  },
  {
   "cell_type": "markdown",
   "metadata": {},
   "source": [
    "# Stride Unit Assignment\n",
    "\n",
    "The row chunks, stride units and input sources of a page alignment unit are formulated as follows. A submatrix $b$ consists of a set of stride units, $\\mathbb{S}=\\{\\mathbb{S}_{0}, \\mathbb{S}_{1}, \\cdots. \\mathbb{S}_{U-1}\\}$ where $U = Z / (P_{r} \\cdot W^{s})$ accounts for the number of stride units. For all $u \\in \\{0, \\cdots, U-1\\}$, a set of consecutive row chunks is included in a stride unit, i.e. $\\mathbb{S}_{u} = \\{R^{u}_{0}, R^{u}_{2}, \\cdots, R^{u}_{W^{s}-1}\\}$ where $R^{u}_{0}$ denotes the first row chunk in the $u$th stride unit, etc. Moreover, a row chunk $R^{u}_{i}$ aggregates a bunch of extrinsic messages\\footnote{Every extrinsic message is from a nonzero element in submatrix $b$, which represents one associated variable node.}, i.e."
   ]
  }
 ],
 "metadata": {
  "kernelspec": {
   "display_name": "Python 3",
   "language": "python",
   "name": "python3"
  },
  "language_info": {
   "codemirror_mode": {
    "name": "ipython",
    "version": 3
   },
   "file_extension": ".py",
   "mimetype": "text/x-python",
   "name": "python",
   "nbconvert_exporter": "python",
   "pygments_lexer": "ipython3",
   "version": "3.11.6"
  }
 },
 "nbformat": 4,
 "nbformat_minor": 2
}
